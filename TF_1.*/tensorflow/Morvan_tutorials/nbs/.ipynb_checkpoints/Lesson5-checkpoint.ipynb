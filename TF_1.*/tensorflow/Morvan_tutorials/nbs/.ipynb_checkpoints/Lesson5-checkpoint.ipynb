{
 "cells": [
  {
   "cell_type": "code",
   "execution_count": 11,
   "metadata": {},
   "outputs": [],
   "source": [
    "import tensorflow as tf\n",
    "import numpy as np\n",
    "import matplotlib.pyplot as plt\n",
    "%matplotlib inline"
   ]
  },
  {
   "cell_type": "code",
   "execution_count": 9,
   "metadata": {},
   "outputs": [],
   "source": [
    "# create data\n",
    "x_data = np.random.rand(100).astype(np.float32)\n",
    "y_data = x_data*0.1 + .3"
   ]
  },
  {
   "cell_type": "code",
   "execution_count": 10,
   "metadata": {},
   "outputs": [
    {
     "data": {
      "text/plain": [
       "array([ 0.30764309,  0.30954692,  0.35931161,  0.39587834,  0.39530706,\n",
       "        0.3922267 ,  0.36966482,  0.37247577,  0.36194253,  0.34084123,\n",
       "        0.32992858,  0.39813006,  0.39593184,  0.36239114,  0.35502076,\n",
       "        0.36006483,  0.31483236,  0.36130592,  0.3098672 ,  0.39799678,\n",
       "        0.34161505,  0.38005787,  0.33414671,  0.36560819,  0.31196213,\n",
       "        0.34170187,  0.3508409 ,  0.39198932,  0.33820623,  0.39743164,\n",
       "        0.315126  ,  0.30906647,  0.32531038,  0.3515771 ,  0.35827172,\n",
       "        0.39406636,  0.35843664,  0.35826251,  0.38049167,  0.30999401,\n",
       "        0.33614254,  0.38665265,  0.35194585,  0.30360445,  0.3605592 ,\n",
       "        0.34172377,  0.31820548,  0.36036462,  0.33406022,  0.33323735,\n",
       "        0.33718506,  0.33489385,  0.39925152,  0.39333746,  0.32682782,\n",
       "        0.32155773,  0.37776142,  0.38608789,  0.31329831,  0.37868965,\n",
       "        0.35763994,  0.35829252,  0.39627016,  0.38113499,  0.30221555,\n",
       "        0.39063111,  0.39426535,  0.35511309,  0.30668697,  0.3175734 ,\n",
       "        0.36204156,  0.34014744,  0.33761084,  0.35819075,  0.322119  ,\n",
       "        0.37108374,  0.30428633,  0.34328753,  0.30069259,  0.33632976,\n",
       "        0.37952921,  0.309488  ,  0.38001928,  0.39468163,  0.38748175,\n",
       "        0.32385233,  0.32588196,  0.33134884,  0.38487574,  0.36269927,\n",
       "        0.32684878,  0.36211741,  0.37208483,  0.38159329,  0.34569991,\n",
       "        0.30022418,  0.34777296,  0.31048799,  0.39753997,  0.36786839], dtype=float32)"
      ]
     },
     "execution_count": 10,
     "metadata": {},
     "output_type": "execute_result"
    }
   ],
   "source": [
    "y_data"
   ]
  },
  {
   "cell_type": "code",
   "execution_count": 12,
   "metadata": {},
   "outputs": [
    {
     "data": {
      "text/plain": [
       "<matplotlib.collections.PathCollection at 0xb297ec668>"
      ]
     },
     "execution_count": 12,
     "metadata": {},
     "output_type": "execute_result"
    },
    {
     "data": {
      "image/png": "[encoded data removed]",
      "text/plain": [
       "<Figure size 432x288 with 1 Axes>"
      ]
     },
     "metadata": {},
     "output_type": "display_data"
    }
   ],
   "source": [
    "plt.scatter(x_data, y_data)"
   ]
  },
  {
   "cell_type": "code",
   "execution_count": 14,
   "metadata": {},
   "outputs": [],
   "source": [
    "### create tensorflow structure start ###\n",
    "Weights = tf.Variable(tf.random_uniform([1], -1.0, 1.0))\n",
    "biases = \n",
    "### create tensorflow structure end ###\n",
    "    # Very important"
   ]
  },
  {
   "cell_type": "code",
   "execution_count": 15,
   "metadata": {},
   "outputs": [],
   "source": [
    "for step in range(201):\n",
    "    pass"
   ]
  },
  {
   "cell_type": "code",
   "execution_count": 23,
   "metadata": {},
   "outputs": [],
   "source": [
    "test = tf.random_uniform([2,3,7], -1, 1)"
   ]
  },
  {
   "cell_type": "code",
   "execution_count": 29,
   "metadata": {},
   "outputs": [
    {
     "data": {
      "text/plain": [
       "<tf.Tensor 'random_uniform_4:0' shape=(2, 3, 7) dtype=float32>"
      ]
     },
     "execution_count": 29,
     "metadata": {},
     "output_type": "execute_result"
    }
   ],
   "source": []
  },
  {
   "cell_type": "code",
   "execution_count": null,
   "metadata": {},
   "outputs": [],
   "source": []
  }
 ],
 "metadata": {
  "kernelspec": {
   "display_name": "Python 3",
   "language": "python",
   "name": "python3"
  },
  "language_info": {
   "codemirror_mode": {
    "name": "ipython",
    "version": 3
   },
   "file_extension": ".py",
   "mimetype": "text/x-python",
   "name": "python",
   "nbconvert_exporter": "python",
   "pygments_lexer": "ipython3",
   "version": "3.6.5"
  }
 },
 "nbformat": 4,
 "nbformat_minor": 2
}
