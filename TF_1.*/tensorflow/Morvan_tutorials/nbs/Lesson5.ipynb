{
 "cells": [
  {
   "cell_type": "code",
   "execution_count": 21,
   "metadata": {},
   "outputs": [],
   "source": [
    "import tensorflow as tf\n",
    "import numpy as np\n",
    "import matplotlib.pyplot as plt\n",
    "%matplotlib inline"
   ]
  },
  {
   "cell_type": "code",
   "execution_count": 22,
   "metadata": {},
   "outputs": [],
   "source": [
    "# create data\n",
    "x_data = np.random.rand(100).astype(np.float32)\n",
    "y_data = x_data*0.1 + .3"
   ]
  },
  {
   "cell_type": "code",
   "execution_count": 23,
   "metadata": {},
   "outputs": [
    {
     "data": {
      "text/plain": [
       "array([ 0.3843551 ,  0.37711626,  0.37878823,  0.34484249,  0.3199515 ,\n",
       "        0.33589795,  0.37220073,  0.35688591,  0.32705584,  0.33312538,\n",
       "        0.3749449 ,  0.32799503,  0.34061867,  0.36288524,  0.3896628 ,\n",
       "        0.36655405,  0.33571294,  0.32248181,  0.31259394,  0.34489381,\n",
       "        0.31208095,  0.30336165,  0.33829173,  0.32520524,  0.39326698,\n",
       "        0.39469349,  0.39308038,  0.39239097,  0.34285793,  0.38370466,\n",
       "        0.37654155,  0.31416059,  0.35045457,  0.34650153,  0.35992116,\n",
       "        0.38261506,  0.34902957,  0.30728146,  0.32362598,  0.39196959,\n",
       "        0.31460795,  0.33849397,  0.39637128,  0.36423397,  0.31957412,\n",
       "        0.39102092,  0.35455379,  0.34017965,  0.38855588,  0.36432108,\n",
       "        0.3027831 ,  0.37437409,  0.37216914,  0.38228762,  0.30112964,\n",
       "        0.32909316,  0.38938686,  0.30207646,  0.3468644 ,  0.33254549,\n",
       "        0.33643976,  0.37343416,  0.38480419,  0.32312891,  0.35932374,\n",
       "        0.3927272 ,  0.36262873,  0.374349  ,  0.35721281,  0.30674756,\n",
       "        0.36747015,  0.33591232,  0.35971645,  0.35853574,  0.33551848,\n",
       "        0.30811578,  0.30860826,  0.39885709,  0.34608755,  0.31456205,\n",
       "        0.34922868,  0.35014534,  0.31075963,  0.33307767,  0.37188557,\n",
       "        0.38471189,  0.3180995 ,  0.34822902,  0.38030228,  0.37855315,\n",
       "        0.33436692,  0.39575142,  0.38818139,  0.36459887,  0.38692027,\n",
       "        0.35973492,  0.36575347,  0.38735223,  0.39581376,  0.31021106], dtype=float32)"
      ]
     },
     "execution_count": 23,
     "metadata": {},
     "output_type": "execute_result"
    }
   ],
   "source": [
    "y_data"
   ]
  },
  {
   "cell_type": "code",
   "execution_count": 24,
   "metadata": {},
   "outputs": [
    {
     "data": {
      "text/plain": [
       "<matplotlib.collections.PathCollection at 0xb1469c9e8>"
      ]
     },
     "execution_count": 24,
     "metadata": {},
     "output_type": "execute_result"
    },
    {
     "data": {
      "image/png": "[encoded data removed]",
      "text/plain": [
       "<Figure size 432x288 with 1 Axes>"
      ]
     },
     "metadata": {},
     "output_type": "display_data"
    }
   ],
   "source": [
    "plt.scatter(x_data, y_data)"
   ]
  },
  {
   "cell_type": "code",
   "execution_count": 25,
   "metadata": {},
   "outputs": [],
   "source": [
    "### create tensorflow structure start ###\n",
    "Weights = tf.Variable(tf.random_uniform([1], -1.0, 1.0))\n",
    "biases = tf.Variable(tf.zeros([1]))\n",
    "\n",
    "y_pred = Weights * x_data + biases   #y_pred\n",
    "\n",
    "loss = tf.reduce_mean(tf.square(y_pred - y_data))\n",
    "optimizer = tf.train.GradientDescentOptimizer(0.5)\n",
    "train = optimizer.minimize(loss)\n",
    "\n",
    "\n",
    "init = tf.global_variables_initializer() # important\n",
    "### create tensorflow structure end ###"
   ]
  },
  {
   "cell_type": "code",
   "execution_count": 26,
   "metadata": {},
   "outputs": [],
   "source": [
    "#tf.Session()  control the execution of your tf objects\n",
    "sess = tf.Session()\n",
    "sess.run(init)"
   ]
  },
  {
   "cell_type": "code",
   "execution_count": 27,
   "metadata": {},
   "outputs": [
    {
     "name": "stdout",
     "output_type": "stream",
     "text": [
      "0 [ 0.33771458] [ 0.23452011] 0.00834016\n",
      "20 [ 0.15640651] [ 0.2680164] 0.000265562\n",
      "40 [ 0.11529836] [ 0.29132554] 1.95343e-05\n",
      "60 [ 0.10414915] [ 0.29764736] 1.4369e-06\n",
      "80 [ 0.10112534] [ 0.29936191] 1.05701e-07\n",
      "100 [ 0.1003052] [ 0.29982695] 7.77444e-09\n",
      "120 [ 0.10008277] [ 0.29995307] 5.71726e-10\n",
      "140 [ 0.10002245] [ 0.29998729] 4.2074e-11\n",
      "160 [ 0.10000608] [ 0.29999655] 3.08746e-12\n",
      "180 [ 0.10000163] [ 0.29999909] 2.21361e-13\n",
      "200 [ 0.10000045] [ 0.29999977] 1.60849e-14\n",
      "220 [ 0.10000011] [ 0.29999995] 1.03029e-15\n",
      "240 [ 0.1000001] [ 0.29999995] 9.14824e-16\n",
      "260 [ 0.1000001] [ 0.29999995] 9.14824e-16\n",
      "280 [ 0.1000001] [ 0.29999995] 9.14824e-16\n"
     ]
    }
   ],
   "source": [
    "for step in range(281):\n",
    "    sess.run(train)\n",
    "    if step % 20 == 0:\n",
    "        print(step, sess.run(Weights), sess.run(biases), sess.run(loss))"
   ]
  },
  {
   "cell_type": "code",
   "execution_count": null,
   "metadata": {},
   "outputs": [],
   "source": []
  }
 ],
 "metadata": {
  "kernelspec": {
   "display_name": "Python 3",
   "language": "python",
   "name": "python3"
  },
  "language_info": {
   "codemirror_mode": {
    "name": "ipython",
    "version": 3
   },
   "file_extension": ".py",
   "mimetype": "text/x-python",
   "name": "python",
   "nbconvert_exporter": "python",
   "pygments_lexer": "ipython3",
   "version": "3.6.5"
  }
 },
 "nbformat": 4,
 "nbformat_minor": 2
}
